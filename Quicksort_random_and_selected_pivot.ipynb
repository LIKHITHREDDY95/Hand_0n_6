{
  "nbformat": 4,
  "nbformat_minor": 0,
  "metadata": {
    "colab": {
      "provenance": [],
      "authorship_tag": "ABX9TyNHBPY7H2gp+X7NWfnqSkHV",
      "include_colab_link": true
    },
    "kernelspec": {
      "name": "python3",
      "display_name": "Python 3"
    },
    "language_info": {
      "name": "python"
    }
  },
  "cells": [
    {
      "cell_type": "markdown",
      "metadata": {
        "id": "view-in-github",
        "colab_type": "text"
      },
      "source": [
        "<a href=\"https://colab.research.google.com/github/LIKHITHREDDY95/Hand_0n_6/blob/main/Quicksort_random_and_selected_pivot.ipynb\" target=\"_parent\"><img src=\"https://colab.research.google.com/assets/colab-badge.svg\" alt=\"Open In Colab\"/></a>"
      ]
    },
    {
      "cell_type": "code",
      "execution_count": 6,
      "metadata": {
        "colab": {
          "base_uri": "https://localhost:8080/"
        },
        "id": "0gHWwrqnkgSI",
        "outputId": "f86961da-ad2a-4e3b-8979-7a8f720cc86c"
      },
      "outputs": [
        {
          "output_type": "stream",
          "name": "stdout",
          "text": [
            "array: [3, 6, 8, 10, 1, 2, 1]\n",
            "quicksort with random pivot: [1, 1, 2, 3, 6, 8, 10]\n",
            "quicksort with fixed pivot: [1, 1, 2, 3, 6, 8, 10]\n"
          ]
        }
      ],
      "source": [
        "import random\n",
        "\n",
        "\n",
        "def quicksort_random(arr):\n",
        "    if len(arr) <= 1:\n",
        "        return arr\n",
        "    else:\n",
        "        pivot = random.choice(arr)\n",
        "        less = [x for x in arr if x < pivot]\n",
        "        equal = [x for x in arr if x == pivot]\n",
        "        greater = [x for x in arr if x > pivot]\n",
        "        return quicksort_random(less) + equal + quicksort_random(greater)\n",
        "\n",
        "\n",
        "def quicksort_fixed(arr):\n",
        "    def partition(low, high):\n",
        "        pivot = arr[high]\n",
        "        i = low - 1\n",
        "        for j in range(low, high):\n",
        "            if arr[j] <= pivot:\n",
        "                i += 1\n",
        "                arr[i], arr[j] = arr[j], arr[i]\n",
        "        arr[i + 1], arr[high] = arr[high], arr[i + 1]\n",
        "        return i + 1\n",
        "\n",
        "    def quicksort(low, high):\n",
        "        if low < high:\n",
        "            pi = partition(low, high)\n",
        "            quicksort(low, pi - 1)\n",
        "            quicksort(pi + 1, high)\n",
        "\n",
        "    quicksort(0, len(arr) - 1)\n",
        "    return arr\n",
        "\n",
        "\n",
        "if __name__ == \"__main__\":\n",
        "    test_array = [3, 6, 8, 10, 1, 2, 1]\n",
        "    print(\"array:\", test_array)\n",
        "\n",
        "    random_sorted = quicksort_random(test_array.copy())\n",
        "    print(\"quicksort with random pivot:\", random_sorted)\n",
        "\n",
        "    fixed_sorted = quicksort_fixed(test_array.copy())\n",
        "    print(\"quicksort with fixed pivot:\", fixed_sorted)"
      ]
    }
  ]
}